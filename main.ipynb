{
 "cells": [
  {
   "cell_type": "code",
   "execution_count": 1,
   "id": "ce2f8f09",
   "metadata": {},
   "outputs": [],
   "source": [
    "from selenium import webdriver\n",
    "from webdriver_manager.chrome import ChromeDriverManager\n",
    "from selenium.webdriver.common.by import By\n",
    "from selenium.webdriver.support.ui import WebDriverWait\n",
    "from selenium.webdriver.support import expected_conditions as EC\n",
    "from selenium.webdriver.support.select import Select\n",
    "from bs4 import BeautifulSoup\n",
    "import requests"
   ]
  },
  {
   "cell_type": "code",
   "execution_count": 2,
   "id": "c9657d3f",
   "metadata": {},
   "outputs": [
    {
     "name": "stdout",
     "output_type": "stream",
     "text": [
      "Yahan - Vasu Raina, \n",
      "Husn - Anuv Jain, \n",
      "Saaz-E-Dil - Akash, \n",
      "Meri Baaton Mein Tu - Anuv Jain, \n",
      "Saari Umar - Harish Budhwani, \n",
      "Iraaday - Rovalio, Abdul Hannan, \n",
      "kaise batayein tumhe? - Kanishk Rathore, \n",
      "Har Woh Pal - Aditya Satpathy, \n",
      "Fidaa - Shubhranshu Tiwari, \n",
      "Mulaqat - Prateek Kuhad, \n",
      "Ye Baarish - Darshan Raval, \n",
      "Nahin Milta - Bayaan, \n"
     ]
    }
   ],
   "source": [
    "# EXTRACT ALL SONG TITLES ALONG WITH THEIR SINGERS/COMPOSERS VIA BEAUTIFULSOUP\n",
    "# https://open.spotify.com/playlist/69HIaVaMTLoMYpUoQkgYdv?si=7a61a1d6ab994afd\n",
    "\n",
    "def get_all_songs(playlist_url):\n",
    "    \n",
    "    # Manually create Chrome options\n",
    "    chrome_options = webdriver.ChromeOptions()\n",
    "    # Add any additional options if needed\n",
    "\n",
    "    # Manually create the Chrome service\n",
    "    chrome_service = webdriver.chrome.service.Service(ChromeDriverManager().install())\n",
    "\n",
    "    # Pass options and service to Chrome constructor\n",
    "    driver = webdriver.Chrome(options=chrome_options, service=chrome_service)\n",
    "\n",
    "    driver.get(playlist_url)\n",
    "\n",
    "    driver.implicitly_wait(10)\n",
    "\n",
    "    # Get the updated page source with dynamic content\n",
    "    html_content = driver.page_source\n",
    "\n",
    "    driver.quit()\n",
    "\n",
    "    data = BeautifulSoup(html_content,'html.parser')\n",
    "    song_names = data.find_all('div', class_='Text__TextElement-sc-if376j-0 ksSRyh encore-text-body-medium t_yrXoUO3qGsJS4Y6iXX standalone-ellipsis-one-line')\n",
    "    composers = data.find_all('div',class_='Text__TextElement-sc-if376j-0 gYdBJW encore-text-body-small')\n",
    "    search_input = []\n",
    "    for i in range(len(song_names)):\n",
    "        temp = song_names[i].text\n",
    "        temp+=\" - \"\n",
    "    #     print(temp)\n",
    "        temp_composers = composers[i].find_all('a')\n",
    "        for j in temp_composers:\n",
    "            temp+= j.text+\", \"\n",
    "    #     print(temp)\n",
    "        search_input.append(temp)\n",
    "    return search_input"
   ]
  },
  {
   "cell_type": "code",
   "execution_count": 3,
   "id": "dd9472a7",
   "metadata": {},
   "outputs": [],
   "source": [
    "# SEARCH FOR EACH SONG IN YOUTUBE AND GET THERE URLS\n",
    "\n",
    "def get_all_urls(search_input):\n",
    "\n",
    "    # Manually create Chrome options\n",
    "    chrome_options = webdriver.ChromeOptions()\n",
    "    # Add any additional options if needed\n",
    "\n",
    "    # Manually create the Chrome service\n",
    "    chrome_service = webdriver.chrome.service.Service(ChromeDriverManager().install())\n",
    "\n",
    "    # Pass options and service to Chrome constructor\n",
    "    driver = webdriver.Chrome(options=chrome_options, service=chrome_service)\n",
    "\n",
    "    driver.get('https://www.youtube.com/')\n",
    "\n",
    "    wait = WebDriverWait(driver,100000)\n",
    "    wait.until(EC.presence_of_element_located((By.XPATH,'//input[@name = \"search_query\"]')))\n",
    "    search_box = driver.find_element(By.XPATH,'//input[@name = \"search_query\"]')\n",
    "    yt_urls = []\n",
    "    for i in search_input:\n",
    "    #   IT WILL SEARCH FOR THE YOUTUBE URL OF THAT SONG\n",
    "        search_box = driver.find_element(By.XPATH,'//input[@name = \"search_query\"]')\n",
    "        search_box.clear()\n",
    "        search_box.send_keys(i)\n",
    "        search_box.submit()\n",
    "    #   NOW WE WILL APPLY A WAIT TO GET THE YOUTUBE LINK\n",
    "        wait = WebDriverWait(driver,100000)\n",
    "        wait.until(EC.presence_of_element_located((By.ID,'video-title')))\n",
    "        yt_link = driver.find_element(By.ID,'video-title')\n",
    "        yt_link.click()\n",
    "        wait = WebDriverWait(driver,100000)\n",
    "        wait.until(EC.presence_of_element_located((By.XPATH,'//button[contains(@class,\"ytp-mute-button ytp-button\")]')))\n",
    "    #     mute_button = driver.find_element(By.XPATH,'//button[contains(@class,\"ytp-mute-button ytp-button\")]')\n",
    "    #     mute_button.click()\n",
    "        yt_urls.append(driver.current_url)\n",
    "        driver.get('https://www.youtube.com/')\n",
    "    return yt_urls"
   ]
  },
  {
   "cell_type": "code",
   "execution_count": 6,
   "id": "6d9fa856",
   "metadata": {},
   "outputs": [],
   "source": [
    "# yt_urls = ['https://www.youtube.com/watch?v=4q7ml8ltKzc', 'https://www.youtube.com/watch?v=gJLVTKhTnog', 'https://www.youtube.com/watch?v=hDl17T5YliU', 'https://www.youtube.com/watch?v=hUORvCLETbI', 'https://www.youtube.com/watch?v=tV9HYDJAv9w', 'https://www.youtube.com/watch?v=Qwm6BSGrOq0', 'https://www.youtube.com/watch?v=N7Sfd7dRt1M', 'https://www.youtube.com/watch?v=wvN7lygwUTA', 'https://www.youtube.com/watch?v=08ImW54sCa8', 'https://www.youtube.com/watch?v=vzdZCm7cAqA', 'https://www.youtube.com/watch?v=RimXddCwM2I', 'https://www.youtube.com/watch?v=umsrQSA2iOM']"
   ]
  },
  {
   "cell_type": "code",
   "execution_count": 21,
   "id": "43c37d6c",
   "metadata": {},
   "outputs": [],
   "source": [
    "# DOWNLOADING SONGS\n",
    "\n",
    "def download_songs(yt_urls):\n",
    "\n",
    "    driver.get('https://ytmp3.nu/Q2rp/')\n",
    "    count = 0\n",
    "    for i in yt_urls:\n",
    "        wait = WebDriverWait(driver,1000)\n",
    "        wait.until(EC.presence_of_element_located((By.NAME,'url')))\n",
    "        search_box = driver.find_element(By.NAME,'url')\n",
    "        search_box.clear()\n",
    "    #     print(search_box.get_attribute('outerHTML'))\n",
    "        search_box.send_keys(i)\n",
    "        search_box.submit()\n",
    "        wait = WebDriverWait(driver,1000)\n",
    "        wait.until(EC.presence_of_element_located((By.LINK_TEXT,'Download')))\n",
    "        download_button = driver.find_element(By.LINK_TEXT,'Download')\n",
    "        download_button.click()\n",
    "        driver.implicitly_wait(10)\n",
    "    #     print(download_button.get_attribute('outerHTML'))\n",
    "        convert_next_button = driver.find_element(By.LINK_TEXT,'Convert next')\n",
    "        convert_next_button.click()"
   ]
  },
  {
   "cell_type": "code",
   "execution_count": null,
   "id": "08da43fa",
   "metadata": {},
   "outputs": [],
   "source": [
    "# SAMPLE INPUT - https://open.spotify.com/playlist/69HIaVaMTLoMYpUoQkgYdv?si=7a61a1d6ab994afd\n",
    "print(\"--------WELCOME TO PLAYLIST-DOWNLOAD-CENTRE--------\")\n",
    "playlist_url = input()\n",
    "search_input = get_all_songs(search_input)\n",
    "yt_urls = get_all_urls()\n",
    "download_songs(yt_urls)\n",
    "print(\"DOWNLOADED SUCCESSFULLY\")"
   ]
  }
 ],
 "metadata": {
  "kernelspec": {
   "display_name": "Python 3 (ipykernel)",
   "language": "python",
   "name": "python3"
  },
  "language_info": {
   "codemirror_mode": {
    "name": "ipython",
    "version": 3
   },
   "file_extension": ".py",
   "mimetype": "text/x-python",
   "name": "python",
   "nbconvert_exporter": "python",
   "pygments_lexer": "ipython3",
   "version": "3.10.9"
  }
 },
 "nbformat": 4,
 "nbformat_minor": 5
}
